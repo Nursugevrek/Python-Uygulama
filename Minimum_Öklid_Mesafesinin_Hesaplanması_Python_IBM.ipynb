{
  "nbformat": 4,
  "nbformat_minor": 0,
  "metadata": {
    "colab": {
      "provenance": [],
      "authorship_tag": "ABX9TyP+/PoRrzvCO6wy5L+GsKJu",
      "include_colab_link": true
    },
    "kernelspec": {
      "name": "python3",
      "display_name": "Python 3"
    },
    "language_info": {
      "name": "python"
    }
  },
  "cells": [
    {
      "cell_type": "markdown",
      "metadata": {
        "id": "view-in-github",
        "colab_type": "text"
      },
      "source": [
        "<a href=\"https://colab.research.google.com/github/Nursugevrek/Python-Uygulama/blob/main/Minimum_%C3%96klid_Mesafesinin_Hesaplanmas%C4%B1_Python_IBM.ipynb\" target=\"_parent\"><img src=\"https://colab.research.google.com/assets/colab-badge.svg\" alt=\"Open In Colab\"/></a>"
      ]
    },
    {
      "cell_type": "code",
      "source": [
        "# d=((X2-X1)^2+(Y2-Y1)^2)^1/2\n",
        "def euclideanDistance(points):\n",
        "  X1,Y1,X2,Y2= points\n",
        "  return ((X2-X1)**2+(Y2-Y1)**2)**1/2"
      ],
      "metadata": {
        "id": "vAUCTcW1YbHb"
      },
      "execution_count": 1,
      "outputs": []
    },
    {
      "cell_type": "code",
      "source": [
        "points=[1,2,4,6]\n",
        "distance=euclideanDistance(points)\n",
        "print(distance)"
      ],
      "metadata": {
        "colab": {
          "base_uri": "https://localhost:8080/"
        },
        "id": "6ikBawtcBuZ6",
        "outputId": "7575adcb-beeb-4f79-c703-17e3cbd47a65"
      },
      "execution_count": 2,
      "outputs": [
        {
          "output_type": "stream",
          "name": "stdout",
          "text": [
            "12.5\n"
          ]
        }
      ]
    },
    {
      "cell_type": "code",
      "source": [],
      "metadata": {
        "id": "_qepTjvXCTKe"
      },
      "execution_count": null,
      "outputs": []
    },
    {
      "cell_type": "code",
      "source": [],
      "metadata": {
        "id": "1aWoh1KbCcWM"
      },
      "execution_count": null,
      "outputs": []
    }
  ]
}